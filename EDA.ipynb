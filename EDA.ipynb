{
 "cells": [
  {
   "cell_type": "code",
   "execution_count": 1,
   "id": "782e58b5",
   "metadata": {},
   "outputs": [],
   "source": [
    "import pandas as pd\n",
    "import numpy as np\n",
    "import re\n",
    "import matplotlib.pyplot as plt\n",
    "import seaborn as sns\n",
    "from sklearn.model_selection import train_test_split\n"
   ]
  },
  {
   "cell_type": "code",
   "execution_count": 2,
   "id": "a984b425",
   "metadata": {},
   "outputs": [
    {
     "data": {
      "text/html": [
       "<div>\n",
       "<style scoped>\n",
       "    .dataframe tbody tr th:only-of-type {\n",
       "        vertical-align: middle;\n",
       "    }\n",
       "\n",
       "    .dataframe tbody tr th {\n",
       "        vertical-align: top;\n",
       "    }\n",
       "\n",
       "    .dataframe thead th {\n",
       "        text-align: right;\n",
       "    }\n",
       "</style>\n",
       "<table border=\"1\" class=\"dataframe\">\n",
       "  <thead>\n",
       "    <tr style=\"text-align: right;\">\n",
       "      <th></th>\n",
       "      <th>Query</th>\n",
       "      <th>Label</th>\n",
       "    </tr>\n",
       "  </thead>\n",
       "  <tbody>\n",
       "    <tr>\n",
       "      <th>0</th>\n",
       "      <td>\" or pg_sleep  (  __TIME__  )  --</td>\n",
       "      <td>1</td>\n",
       "    </tr>\n",
       "    <tr>\n",
       "      <th>1</th>\n",
       "      <td>create user name identified by pass123 tempora...</td>\n",
       "      <td>1</td>\n",
       "    </tr>\n",
       "    <tr>\n",
       "      <th>2</th>\n",
       "      <td>AND 1  =  utl_inaddr.get_host_address   (    ...</td>\n",
       "      <td>1</td>\n",
       "    </tr>\n",
       "    <tr>\n",
       "      <th>3</th>\n",
       "      <td>select * from users where id  =  '1' or @ @1 ...</td>\n",
       "      <td>1</td>\n",
       "    </tr>\n",
       "    <tr>\n",
       "      <th>4</th>\n",
       "      <td>select * from users where id  =  1 or 1#\"  ( ...</td>\n",
       "      <td>1</td>\n",
       "    </tr>\n",
       "  </tbody>\n",
       "</table>\n",
       "</div>"
      ],
      "text/plain": [
       "                                               Query  Label\n",
       "0                  \" or pg_sleep  (  __TIME__  )  --      1\n",
       "1  create user name identified by pass123 tempora...      1\n",
       "2   AND 1  =  utl_inaddr.get_host_address   (    ...      1\n",
       "3   select * from users where id  =  '1' or @ @1 ...      1\n",
       "4   select * from users where id  =  1 or 1#\"  ( ...      1"
      ]
     },
     "execution_count": 2,
     "metadata": {},
     "output_type": "execute_result"
    }
   ],
   "source": [
    "data = pd.read_csv('SQL_Dataset.csv')\n",
    "data.head()"
   ]
  },
  {
   "cell_type": "code",
   "execution_count": 3,
   "id": "7eead9ff",
   "metadata": {},
   "outputs": [
    {
     "data": {
      "text/plain": [
       "(30919, 2)"
      ]
     },
     "execution_count": 3,
     "metadata": {},
     "output_type": "execute_result"
    }
   ],
   "source": [
    "data.shape"
   ]
  },
  {
   "cell_type": "code",
   "execution_count": 4,
   "id": "b7d38160",
   "metadata": {},
   "outputs": [
    {
     "data": {
      "image/png": "[encoded data removed]",
      "text/plain": [
       "<Figure size 432x288 with 1 Axes>"
      ]
     },
     "metadata": {
      "needs_background": "light"
     },
     "output_type": "display_data"
    }
   ],
   "source": [
    "#checking if the data is balanced or not\n",
    "#reference: https://www.geeksforgeeks.org/countplot-using-seaborn-in-python/\n",
    "sns.countplot(x = 'Label', data = data)\n",
    "plt.show()"
   ]
  },
  {
   "cell_type": "markdown",
   "id": "83eba825",
   "metadata": {},
   "source": [
    "There are more non-malicious queries than malicious queries. Before performing feature extraction and further EDA, we will have to split the data into train and test data, and perform further analysis on the train data. We will have to perform startified split to ensure the proportions of malicious and non-malicious queries is same in train and test data."
   ]
  },
  {
   "cell_type": "code",
   "execution_count": 5,
   "id": "be7a5c74",
   "metadata": {},
   "outputs": [
    {
     "name": "stdout",
     "output_type": "stream",
     "text": [
      "(23189,)\n",
      "(7730,)\n"
     ]
    }
   ],
   "source": [
    "X = data['Query']\n",
    "y = data['Label']\n",
    "\n",
    "X_train, X_test, y_train, y_test = train_test_split(X, y, test_size = 0.25, stratify = y, random_state = 42)\n",
    "print(X_train.shape)\n",
    "print(X_test.shape)"
   ]
  },
  {
   "cell_type": "markdown",
   "id": "fa1faf27",
   "metadata": {},
   "source": [
    "There are few data cleanup tasks that have to be done.\n",
    "1. converting all characters in the query to lower case.\n",
    "2. checking for missing values.\n",
    "3. removing duplicates in the data."
   ]
  },
  {
   "cell_type": "code",
   "execution_count": 6,
   "id": "61f9bc04",
   "metadata": {},
   "outputs": [
    {
     "data": {
      "text/plain": [
       "7768     1%' and 6055  =  ctxsys.drithsx.sn  (  6055,  ...\n",
       "14655                                        piedramillera\n",
       "19535    SELECT wp_posts.* FROM wp_posts WHERE ID IN  (...\n",
       "2239     select count  (  *  )   from domain.domains as...\n",
       "10007    call regexp_substring  (  repeat  (  left  (  ...\n",
       "Name: Query, dtype: object"
      ]
     },
     "execution_count": 6,
     "metadata": {},
     "output_type": "execute_result"
    }
   ],
   "source": [
    "X_train.head()"
   ]
  },
  {
   "cell_type": "code",
   "execution_count": 7,
   "id": "00edb58a",
   "metadata": {},
   "outputs": [
    {
     "data": {
      "text/plain": [
       "7768     1%' and 6055  =  ctxsys.drithsx.sn  (  6055,  ...\n",
       "14655                                        piedramillera\n",
       "19535    select wp_posts.* from wp_posts where id in  (...\n",
       "2239     select count  (  *  )   from domain.domains as...\n",
       "10007    call regexp_substring  (  repeat  (  left  (  ...\n",
       "Name: Query, dtype: object"
      ]
     },
     "execution_count": 7,
     "metadata": {},
     "output_type": "execute_result"
    }
   ],
   "source": [
    "#converting to lower case\n",
    "def to_lower_case(x):\n",
    "    \n",
    "    return x.lower()\n",
    "\n",
    "X_train = X_train.apply(to_lower_case)\n",
    "X_train.head()"
   ]
  },
  {
   "cell_type": "code",
   "execution_count": 8,
   "id": "5e82efe0",
   "metadata": {},
   "outputs": [
    {
     "data": {
      "text/plain": [
       "0"
      ]
     },
     "execution_count": 8,
     "metadata": {},
     "output_type": "execute_result"
    }
   ],
   "source": [
    "#checking for missing values\n",
    "np.sum(pd.isnull(X_train))"
   ]
  },
  {
   "cell_type": "markdown",
   "id": "c4794240",
   "metadata": {},
   "source": [
    "Therefore, there are no missing values to be taken care of."
   ]
  },
  {
   "cell_type": "code",
   "execution_count": 9,
   "id": "772ec5e3",
   "metadata": {},
   "outputs": [
    {
     "data": {
      "text/plain": [
       "(23189, 2)"
      ]
     },
     "execution_count": 9,
     "metadata": {},
     "output_type": "execute_result"
    }
   ],
   "source": [
    "#checking for duplicates\n",
    "df = pd.concat([X_train, y_train], axis = 1)\n",
    "df.shape"
   ]
  },
  {
   "cell_type": "code",
   "execution_count": 10,
   "id": "8e706095",
   "metadata": {},
   "outputs": [
    {
     "data": {
      "text/plain": [
       "Index(['Query', 'Label'], dtype='object')"
      ]
     },
     "execution_count": 10,
     "metadata": {},
     "output_type": "execute_result"
    }
   ],
   "source": [
    "df.columns"
   ]
  },
  {
   "cell_type": "code",
   "execution_count": 11,
   "id": "428c16a8",
   "metadata": {},
   "outputs": [
    {
     "data": {
      "text/html": [
       "<div>\n",
       "<style scoped>\n",
       "    .dataframe tbody tr th:only-of-type {\n",
       "        vertical-align: middle;\n",
       "    }\n",
       "\n",
       "    .dataframe tbody tr th {\n",
       "        vertical-align: top;\n",
       "    }\n",
       "\n",
       "    .dataframe thead th {\n",
       "        text-align: right;\n",
       "    }\n",
       "</style>\n",
       "<table border=\"1\" class=\"dataframe\">\n",
       "  <thead>\n",
       "    <tr style=\"text-align: right;\">\n",
       "      <th></th>\n",
       "      <th>Query</th>\n",
       "      <th>Label</th>\n",
       "    </tr>\n",
       "  </thead>\n",
       "  <tbody>\n",
       "    <tr>\n",
       "      <th>581</th>\n",
       "      <td>union select</td>\n",
       "      <td>1</td>\n",
       "    </tr>\n",
       "    <tr>\n",
       "      <th>18233</th>\n",
       "      <td>#name?</td>\n",
       "      <td>0</td>\n",
       "    </tr>\n",
       "    <tr>\n",
       "      <th>18350</th>\n",
       "      <td>7.75e+15</td>\n",
       "      <td>0</td>\n",
       "    </tr>\n",
       "    <tr>\n",
       "      <th>700</th>\n",
       "      <td>union select</td>\n",
       "      <td>1</td>\n",
       "    </tr>\n",
       "    <tr>\n",
       "      <th>377</th>\n",
       "      <td>x' and members.email is null; --</td>\n",
       "      <td>1</td>\n",
       "    </tr>\n",
       "    <tr>\n",
       "      <th>19332</th>\n",
       "      <td>29%</td>\n",
       "      <td>1</td>\n",
       "    </tr>\n",
       "    <tr>\n",
       "      <th>15635</th>\n",
       "      <td>#name?</td>\n",
       "      <td>0</td>\n",
       "    </tr>\n",
       "    <tr>\n",
       "      <th>19328</th>\n",
       "      <td>26%</td>\n",
       "      <td>1</td>\n",
       "    </tr>\n",
       "    <tr>\n",
       "      <th>723</th>\n",
       "      <td>x' and email is null; --</td>\n",
       "      <td>1</td>\n",
       "    </tr>\n",
       "    <tr>\n",
       "      <th>362</th>\n",
       "      <td>x' and userid is null; --</td>\n",
       "      <td>1</td>\n",
       "    </tr>\n",
       "    <tr>\n",
       "      <th>866</th>\n",
       "      <td>#name?</td>\n",
       "      <td>1</td>\n",
       "    </tr>\n",
       "    <tr>\n",
       "      <th>12737</th>\n",
       "      <td>1.94e+15</td>\n",
       "      <td>0</td>\n",
       "    </tr>\n",
       "    <tr>\n",
       "      <th>17913</th>\n",
       "      <td>#name?</td>\n",
       "      <td>0</td>\n",
       "    </tr>\n",
       "    <tr>\n",
       "      <th>19999</th>\n",
       "      <td>select replace ( \"xyz fgh xyz\", \"x\", \"m\" ) ;</td>\n",
       "      <td>0</td>\n",
       "    </tr>\n",
       "  </tbody>\n",
       "</table>\n",
       "</div>"
      ],
      "text/plain": [
       "                                                Query  Label\n",
       "581                                      union select      1\n",
       "18233                                          #name?      0\n",
       "18350                                        7.75e+15      0\n",
       "700                                      union select      1\n",
       "377                  x' and members.email is null; --      1\n",
       "19332                                             29%      1\n",
       "15635                                          #name?      0\n",
       "19328                                             26%      1\n",
       "723                          x' and email is null; --      1\n",
       "362                         x' and userid is null; --      1\n",
       "866                                            #name?      1\n",
       "12737                                        1.94e+15      0\n",
       "17913                                          #name?      0\n",
       "19999    select replace ( \"xyz fgh xyz\", \"x\", \"m\" ) ;      0"
      ]
     },
     "execution_count": 11,
     "metadata": {},
     "output_type": "execute_result"
    }
   ],
   "source": [
    "df[df.duplicated(subset = ['Query', 'Label'])]"
   ]
  },
  {
   "cell_type": "code",
   "execution_count": 12,
   "id": "866923ec",
   "metadata": {},
   "outputs": [
    {
     "data": {
      "text/plain": [
       "(23175, 2)"
      ]
     },
     "execution_count": 12,
     "metadata": {},
     "output_type": "execute_result"
    }
   ],
   "source": [
    "#Now we will drop all the duplicates.\n",
    "df.drop_duplicates(subset = ['Query', 'Label'], inplace = True)\n",
    "df.shape"
   ]
  },
  {
   "cell_type": "code",
   "execution_count": 13,
   "id": "3e9d6d85",
   "metadata": {},
   "outputs": [
    {
     "data": {
      "text/html": [
       "<div>\n",
       "<style scoped>\n",
       "    .dataframe tbody tr th:only-of-type {\n",
       "        vertical-align: middle;\n",
       "    }\n",
       "\n",
       "    .dataframe tbody tr th {\n",
       "        vertical-align: top;\n",
       "    }\n",
       "\n",
       "    .dataframe thead th {\n",
       "        text-align: right;\n",
       "    }\n",
       "</style>\n",
       "<table border=\"1\" class=\"dataframe\">\n",
       "  <thead>\n",
       "    <tr style=\"text-align: right;\">\n",
       "      <th></th>\n",
       "      <th>Query</th>\n",
       "      <th>Label</th>\n",
       "    </tr>\n",
       "  </thead>\n",
       "  <tbody>\n",
       "    <tr>\n",
       "      <th>13532</th>\n",
       "      <td>#name?</td>\n",
       "      <td>0</td>\n",
       "    </tr>\n",
       "    <tr>\n",
       "      <th>17499</th>\n",
       "      <td>1</td>\n",
       "      <td>0</td>\n",
       "    </tr>\n",
       "    <tr>\n",
       "      <th>4244</th>\n",
       "      <td>1</td>\n",
       "      <td>1</td>\n",
       "    </tr>\n",
       "    <tr>\n",
       "      <th>656</th>\n",
       "      <td>#name?</td>\n",
       "      <td>1</td>\n",
       "    </tr>\n",
       "  </tbody>\n",
       "</table>\n",
       "</div>"
      ],
      "text/plain": [
       "        Query  Label\n",
       "13532  #name?      0\n",
       "17499       1      0\n",
       "4244        1      1\n",
       "656    #name?      1"
      ]
     },
     "execution_count": 13,
     "metadata": {},
     "output_type": "execute_result"
    }
   ],
   "source": [
    "#checking for duplicate queries having different label values \n",
    "df[df.duplicated(subset = ['Query'], keep = False)]"
   ]
  },
  {
   "cell_type": "code",
   "execution_count": 14,
   "id": "e70bb5bd",
   "metadata": {},
   "outputs": [
    {
     "data": {
      "text/plain": [
       "(23171, 2)"
      ]
     },
     "execution_count": 14,
     "metadata": {},
     "output_type": "execute_result"
    }
   ],
   "source": [
    "#We will drop such duplicates as well.\n",
    "df.drop_duplicates(subset = ['Query'], keep = False, inplace = True)\n",
    "df.shape"
   ]
  },
  {
   "cell_type": "code",
   "execution_count": 15,
   "id": "0ae6d421",
   "metadata": {},
   "outputs": [],
   "source": [
    "#Now we will split this df back into X_train and y_train\n",
    "X_train = df['Query']\n",
    "y_train = df['Label']"
   ]
  },
  {
   "cell_type": "markdown",
   "id": "00f9766a",
   "metadata": {},
   "source": [
    "Now, we proceed with feature extraction. We will generate the features mentioned in the research papers used for reference."
   ]
  },
  {
   "cell_type": "code",
   "execution_count": 16,
   "id": "7e408423",
   "metadata": {},
   "outputs": [],
   "source": [
    "#1. Finding the count of single line comments\n",
    "def single_comments(x):\n",
    "    return len(re.findall('(--)', x))\n",
    "\n",
    "single_line_comments = X_train.apply(single_comments)"
   ]
  },
  {
   "cell_type": "code",
   "execution_count": 17,
   "id": "71b1f89e",
   "metadata": {},
   "outputs": [
    {
     "data": {
      "image/png": "[encoded data removed]",
      "text/plain": [
       "<Figure size 432x288 with 1 Axes>"
      ]
     },
     "metadata": {
      "needs_background": "light"
     },
     "output_type": "display_data"
    }
   ],
   "source": [
    "sns.countplot(hue = y_train, x = single_line_comments)\n",
    "plt.show()"
   ]
  },
  {
   "cell_type": "markdown",
   "id": "d5d58265",
   "metadata": {},
   "source": [
    "This is an important feature as the presence of single line comment itself denotes that the query is harmful. Which makes sense as the use of single line comments by developers while querying the database is uncommon. Therefore, should be retained."
   ]
  },
  {
   "cell_type": "code",
   "execution_count": 18,
   "id": "c417a93f",
   "metadata": {},
   "outputs": [],
   "source": [
    "#count of multiline comments\n",
    "def multiline_comment(x):\n",
    "    return len(re.findall('\\/\\*', x))\n",
    "gm\n",
    "multiline_comments = X_train.apply(multiline_comment)"
   ]
  },
  {
   "cell_type": "code",
   "execution_count": 19,
   "id": "45607ff6",
   "metadata": {},
   "outputs": [
    {
     "data": {
      "image/png": "[encoded data removed]",
      "text/plain": [
       "<Figure size 432x288 with 1 Axes>"
      ]
     },
     "metadata": {
      "needs_background": "light"
     },
     "output_type": "display_data"
    }
   ],
   "source": [
    "sns.countplot(hue = y_train, x = multiline_comments)\n",
    "plt.show()"
   ]
  },
  {
   "cell_type": "markdown",
   "id": "a1c95324",
   "metadata": {},
   "source": [
    "This feature can be discarded as there aren't many queries with multiline comments. Hence, won't be useful in distinguishing queries."
   ]
  },
  {
   "cell_type": "code",
   "execution_count": 20,
   "id": "9c47bff0",
   "metadata": {},
   "outputs": [],
   "source": [
    "#count of logical operators (and, not, nor, or, ||, &&, and !) in the queries\n",
    "def logical_operators(x):\n",
    "    return len(re.findall(\"\\snot\\s|\\sand\\s|\\sor\\s|\\sxor\\s|&&|\\|\\||!\", x))\n",
    "\n",
    "logical_operators_cnt = X_train.apply(logical_operators)"
   ]
  },
  {
   "cell_type": "code",
   "execution_count": 21,
   "id": "14ae156e",
   "metadata": {},
   "outputs": [
    {
     "data": {
      "image/png": "[encoded data removed]",
      "text/plain": [
       "<Figure size 432x288 with 1 Axes>"
      ]
     },
     "metadata": {
      "needs_background": "light"
     },
     "output_type": "display_data"
    }
   ],
   "source": [
    "sns.countplot(hue = y_train, x = logical_operators_cnt)\n",
    "plt.show()"
   ]
  },
  {
   "cell_type": "markdown",
   "id": "dd0fde60",
   "metadata": {},
   "source": [
    "If the no of logical operators are more than 4, then we can for sure say the query is malicious. In general, injection queries have more no of logical operators than normal queries. This feature should be retained."
   ]
  },
  {
   "cell_type": "code",
   "execution_count": 22,
   "id": "3f29c52f",
   "metadata": {},
   "outputs": [],
   "source": [
    "#looking for the no of occurrences of keywords assumed to be harmful - delete, drop, add, modify, union\n",
    "def find_modify(x):\n",
    "    return len(re.findall('\\smodify\\s', x))\n",
    "\n",
    "cnt_modify = X_train.apply(find_modify)"
   ]
  },
  {
   "cell_type": "code",
   "execution_count": 23,
   "id": "dccf8ead",
   "metadata": {},
   "outputs": [
    {
     "data": {
      "image/png": "[encoded data removed]",
      "text/plain": [
       "<Figure size 432x288 with 1 Axes>"
      ]
     },
     "metadata": {
      "needs_background": "light"
     },
     "output_type": "display_data"
    }
   ],
   "source": [
    "sns.countplot(hue = y_train, x = cnt_modify)\n",
    "plt.show()"
   ]
  },
  {
   "cell_type": "markdown",
   "id": "f1aafae8",
   "metadata": {},
   "source": [
    "This feature is not useful as it doesn't occur much in queries as part of this dataset."
   ]
  },
  {
   "cell_type": "code",
   "execution_count": 24,
   "id": "732cbe91",
   "metadata": {},
   "outputs": [],
   "source": [
    "def find_delete(x):\n",
    "    return len(re.findall('\\sdelete\\s', x))\n",
    "\n",
    "cnt_delete = X_train.apply(find_delete)"
   ]
  },
  {
   "cell_type": "code",
   "execution_count": 25,
   "id": "65db8f10",
   "metadata": {},
   "outputs": [
    {
     "data": {
      "image/png": "[encoded data removed]",
      "text/plain": [
       "<Figure size 432x288 with 1 Axes>"
      ]
     },
     "metadata": {
      "needs_background": "light"
     },
     "output_type": "display_data"
    }
   ],
   "source": [
    "sns.countplot(hue = y_train, x = cnt_delete)\n",
    "plt.show()"
   ]
  },
  {
   "cell_type": "markdown",
   "id": "6ff601dc",
   "metadata": {},
   "source": [
    "This feature also won't be useful."
   ]
  },
  {
   "cell_type": "code",
   "execution_count": 26,
   "id": "8a79b046",
   "metadata": {},
   "outputs": [],
   "source": [
    "def find_drop(x):\n",
    "    return len(re.findall('\\sdrop\\s', x))\n",
    "\n",
    "cnt_drop = X_train.apply(find_drop)"
   ]
  },
  {
   "cell_type": "code",
   "execution_count": 27,
   "id": "50c6dbfb",
   "metadata": {},
   "outputs": [
    {
     "data": {
      "image/png": "[encoded data removed]",
      "text/plain": [
       "<Figure size 432x288 with 1 Axes>"
      ]
     },
     "metadata": {
      "needs_background": "light"
     },
     "output_type": "display_data"
    }
   ],
   "source": [
    "sns.countplot(hue = y_train, x = cnt_drop)\n",
    "plt.show()"
   ]
  },
  {
   "cell_type": "markdown",
   "id": "1ac12f97",
   "metadata": {},
   "source": [
    "This feature can be retained though the no. of occurences are less, because it's presence for sure indicates that the query is malicious."
   ]
  },
  {
   "cell_type": "code",
   "execution_count": 28,
   "id": "31103653",
   "metadata": {},
   "outputs": [],
   "source": [
    "def find_add(x):\n",
    "    return len(re.findall('\\sadd\\s', x))\n",
    "\n",
    "cnt_add = X_train.apply(find_add)"
   ]
  },
  {
   "cell_type": "code",
   "execution_count": 29,
   "id": "a55e1c5b",
   "metadata": {},
   "outputs": [
    {
     "data": {
      "image/png": "[encoded data removed]",
      "text/plain": [
       "<Figure size 432x288 with 1 Axes>"
      ]
     },
     "metadata": {
      "needs_background": "light"
     },
     "output_type": "display_data"
    }
   ],
   "source": [
    "sns.countplot(hue = y_train, x = cnt_add)\n",
    "plt.show()"
   ]
  },
  {
   "cell_type": "markdown",
   "id": "114034e2",
   "metadata": {},
   "source": [
    "This feature isn't useful in distinguishing queries, can be discarded."
   ]
  },
  {
   "cell_type": "code",
   "execution_count": 30,
   "id": "d6bc046e",
   "metadata": {},
   "outputs": [],
   "source": [
    "def find_union(x):\n",
    "    return len(re.findall('\\sunion\\s', x))\n",
    "\n",
    "cnt_union = X_train.apply(find_union)"
   ]
  },
  {
   "cell_type": "code",
   "execution_count": 31,
   "id": "8604232c",
   "metadata": {},
   "outputs": [
    {
     "data": {
      "image/png": "[encoded data removed]",
      "text/plain": [
       "<Figure size 432x288 with 1 Axes>"
      ]
     },
     "metadata": {
      "needs_background": "light"
     },
     "output_type": "display_data"
    }
   ],
   "source": [
    "sns.countplot(hue = y_train, x = cnt_union)\n",
    "plt.show()"
   ]
  },
  {
   "cell_type": "markdown",
   "id": "0a86d505",
   "metadata": {},
   "source": [
    "Even though there is significant overlap. In general, as the count of union increases there is higher chance that the query is an injection query. This feature should be retained."
   ]
  },
  {
   "cell_type": "code",
   "execution_count": 32,
   "id": "7e80f171",
   "metadata": {},
   "outputs": [],
   "source": [
    "#count of dangerous special characters like @, %, ?, and ^\n",
    "def special_chars(x):\n",
    "    return len(re.findall(\"\\@|\\%|\\?|\\^\", x))\n",
    "\n",
    "cnt_special_chars = X_train.apply(special_chars)"
   ]
  },
  {
   "cell_type": "code",
   "execution_count": 33,
   "id": "bdf3191d",
   "metadata": {},
   "outputs": [
    {
     "data": {
      "image/png": "[encoded data removed]",
      "text/plain": [
       "<Figure size 432x288 with 1 Axes>"
      ]
     },
     "metadata": {
      "needs_background": "light"
     },
     "output_type": "display_data"
    }
   ],
   "source": [
    "sns.countplot(hue = y_train, x = cnt_special_chars)\n",
    "plt.show()"
   ]
  },
  {
   "cell_type": "markdown",
   "id": "a3cb277a",
   "metadata": {},
   "source": [
    "There is a significant overlap in this case. This feature though can't be completely disregarded."
   ]
  },
  {
   "cell_type": "code",
   "execution_count": 34,
   "id": "d5c024cc",
   "metadata": {},
   "outputs": [],
   "source": [
    "def equal(x):\n",
    "    return len(re.findall(\"=\", x))\n",
    "\n",
    "cnt_equal = X_train.apply(equal)"
   ]
  },
  {
   "cell_type": "code",
   "execution_count": 35,
   "id": "d9c33746",
   "metadata": {},
   "outputs": [
    {
     "data": {
      "image/png": "[encoded data removed]",
      "text/plain": [
       "<Figure size 432x288 with 1 Axes>"
      ]
     },
     "metadata": {
      "needs_background": "light"
     },
     "output_type": "display_data"
    }
   ],
   "source": [
    "sns.countplot(hue = y_train, x = cnt_equal)\n",
    "plt.show()"
   ]
  },
  {
   "cell_type": "code",
   "execution_count": 36,
   "id": "e9bfc8d3",
   "metadata": {},
   "outputs": [],
   "source": [
    "def double_equal(x):\n",
    "    return len(re.findall(\"==\", x))\n",
    "\n",
    "cnt_double_equal = X_train.apply(double_equal)"
   ]
  },
  {
   "cell_type": "code",
   "execution_count": 37,
   "id": "6b6198e6",
   "metadata": {},
   "outputs": [
    {
     "data": {
      "image/png": "[encoded data removed]",
      "text/plain": [
       "<Figure size 432x288 with 1 Axes>"
      ]
     },
     "metadata": {
      "needs_background": "light"
     },
     "output_type": "display_data"
    }
   ],
   "source": [
    "sns.countplot(hue = y_train, x = cnt_double_equal)\n",
    "plt.show()"
   ]
  },
  {
   "cell_type": "markdown",
   "id": "c47217ca",
   "metadata": {},
   "source": [
    "Even with some overlap, as the no of equal signs is more the query there is higher chance of the query being harmful. There are no == sign in this data so, we don't have to take care of that while calculating count of =."
   ]
  },
  {
   "cell_type": "code",
   "execution_count": 38,
   "id": "151f154d",
   "metadata": {},
   "outputs": [],
   "source": [
    "#count of delimiters i.e., ;\n",
    "\n",
    "def delimiter(x):\n",
    "    return len(re.findall(';', x))\n",
    "\n",
    "cnt_delimiter = X_train.apply(delimiter)"
   ]
  },
  {
   "cell_type": "code",
   "execution_count": 39,
   "id": "056f43cb",
   "metadata": {},
   "outputs": [
    {
     "data": {
      "image/png": "[encoded data removed]",
      "text/plain": [
       "<Figure size 432x288 with 1 Axes>"
      ]
     },
     "metadata": {
      "needs_background": "light"
     },
     "output_type": "display_data"
    }
   ],
   "source": [
    "sns.countplot(hue = y_train, x = cnt_delimiter)\n",
    "plt.show()"
   ]
  },
  {
   "cell_type": "code",
   "execution_count": 40,
   "id": "f0d33128",
   "metadata": {},
   "outputs": [],
   "source": [
    "def dot(x):\n",
    "    return len(re.findall('.', x))\n",
    "\n",
    "cnt_dot = X_train.apply(dot)"
   ]
  },
  {
   "cell_type": "code",
   "execution_count": 41,
   "id": "b62cdad8",
   "metadata": {},
   "outputs": [
    {
     "data": {
      "image/png": "[encoded data removed]",
      "text/plain": [
       "<Figure size 432x288 with 1 Axes>"
      ]
     },
     "metadata": {
      "needs_background": "light"
     },
     "output_type": "display_data"
    }
   ],
   "source": [
    "sns.countplot(hue = y_train, x = cnt_dot)\n",
    "plt.show()"
   ]
  },
  {
   "cell_type": "code",
   "execution_count": 42,
   "id": "3fcd9db3",
   "metadata": {},
   "outputs": [
    {
     "data": {
      "image/png": "[encoded data removed]",
      "text/plain": [
       "<Figure size 432x288 with 1 Axes>"
      ]
     },
     "metadata": {
      "needs_background": "light"
     },
     "output_type": "display_data"
    }
   ],
   "source": [
    "sns.violinplot(x = y_train, y = cnt_dot)\n",
    "plt.show()"
   ]
  },
  {
   "cell_type": "markdown",
   "id": "3d0e08b8",
   "metadata": {},
   "source": [
    "As the count of dot increases the probability of the query being harmful also sees a rise."
   ]
  },
  {
   "cell_type": "code",
   "execution_count": 43,
   "id": "d821f23d",
   "metadata": {},
   "outputs": [],
   "source": [
    "#getting the count of all arithmetic operators used in the query\n",
    "def arithmetic_operators(x):\n",
    "    return len(re.findall(\"\\+|-|\\\\|\\*\", x))\n",
    "\n",
    "cnt_arithmetic_operators = X_train.apply(arithmetic_operators)"
   ]
  },
  {
   "cell_type": "code",
   "execution_count": 44,
   "id": "ded2f360",
   "metadata": {},
   "outputs": [
    {
     "data": {
      "image/png": "[encoded data removed]",
      "text/plain": [
       "<Figure size 432x288 with 1 Axes>"
      ]
     },
     "metadata": {
      "needs_background": "light"
     },
     "output_type": "display_data"
    }
   ],
   "source": [
    "sns.countplot(hue = y_train, x = cnt_arithmetic_operators)\n",
    "plt.show()"
   ]
  },
  {
   "cell_type": "markdown",
   "id": "316aeb60",
   "metadata": {},
   "source": [
    "In general if there are more arithmetic operators, the query is malicious. Still, there is some scope of doubt here as there some overlap."
   ]
  },
  {
   "cell_type": "code",
   "execution_count": 45,
   "id": "5d6c1e10",
   "metadata": {},
   "outputs": [],
   "source": [
    "#no of whitespaces\n",
    "def whitespaces(x):\n",
    "    return len(re.findall(\"\\s\", x))\n",
    "\n",
    "cnt_whitespaces = X_train.apply(whitespaces)"
   ]
  },
  {
   "cell_type": "code",
   "execution_count": 46,
   "id": "07f7c9f4",
   "metadata": {},
   "outputs": [
    {
     "data": {
      "image/png": "[encoded data removed]",
      "text/plain": [
       "<Figure size 432x288 with 1 Axes>"
      ]
     },
     "metadata": {
      "needs_background": "light"
     },
     "output_type": "display_data"
    }
   ],
   "source": [
    "sns.countplot(hue = y_train, x = cnt_whitespaces)\n",
    "plt.show()"
   ]
  },
  {
   "cell_type": "code",
   "execution_count": 47,
   "id": "55fc94d3",
   "metadata": {},
   "outputs": [
    {
     "data": {
      "image/png": "[encoded data removed]",
      "text/plain": [
       "<Figure size 432x288 with 1 Axes>"
      ]
     },
     "metadata": {
      "needs_background": "light"
     },
     "output_type": "display_data"
    }
   ],
   "source": [
    "sns.violinplot(x = y_train, y = cnt_whitespaces)\n",
    "plt.show()"
   ]
  },
  {
   "cell_type": "code",
   "execution_count": 48,
   "id": "9a8cd99f",
   "metadata": {},
   "outputs": [
    {
     "data": {
      "image/png": "[encoded data removed]",
      "text/plain": [
       "<Figure size 432x288 with 1 Axes>"
      ]
     },
     "metadata": {
      "needs_background": "light"
     },
     "output_type": "display_data"
    }
   ],
   "source": [
    "sns.scatterplot(x = cnt_whitespaces, y = y_train, hue = y_train)\n",
    "plt.xlabel('no of whitespaces')\n",
    "plt.show()"
   ]
  },
  {
   "cell_type": "markdown",
   "id": "f932d318",
   "metadata": {},
   "source": [
    "General conscience is that more the no of whites spaces higher the chance that the query is an injection query. This feature should be retained."
   ]
  },
  {
   "cell_type": "code",
   "execution_count": 49,
   "id": "841e8307",
   "metadata": {},
   "outputs": [],
   "source": [
    "#no of digits\n",
    "def digits(x):\n",
    "    return len(re.findall(\"[0-9]\", x))\n",
    "\n",
    "cnt_digits = X_train.apply(digits)"
   ]
  },
  {
   "cell_type": "code",
   "execution_count": 50,
   "id": "72ebfb01",
   "metadata": {},
   "outputs": [
    {
     "data": {
      "image/png": "[encoded data removed]",
      "text/plain": [
       "<Figure size 432x288 with 1 Axes>"
      ]
     },
     "metadata": {
      "needs_background": "light"
     },
     "output_type": "display_data"
    }
   ],
   "source": [
    "sns.countplot(hue = y_train, x = cnt_digits)\n",
    "plt.show()"
   ]
  },
  {
   "cell_type": "code",
   "execution_count": 51,
   "id": "ee4c632c",
   "metadata": {},
   "outputs": [
    {
     "data": {
      "image/png": "[encoded data removed]",
      "text/plain": [
       "<Figure size 432x288 with 1 Axes>"
      ]
     },
     "metadata": {
      "needs_background": "light"
     },
     "output_type": "display_data"
    }
   ],
   "source": [
    "sns.scatterplot(x = cnt_digits, y = y_train, hue = y_train)\n",
    "plt.xlabel('no of digits')\n",
    "plt.show()"
   ]
  },
  {
   "cell_type": "markdown",
   "id": "9cf9c657",
   "metadata": {},
   "source": [
    "There is quite some overlap. It is difficult to come to a conclusion about this feature."
   ]
  },
  {
   "cell_type": "code",
   "execution_count": 52,
   "id": "a3a0add3",
   "metadata": {},
   "outputs": [],
   "source": [
    "#no of alphabets\n",
    "def alphabets(x):\n",
    "    return len(re.findall(\"[a-z]\", x))\n",
    "\n",
    "cnt_alphabets = X_train.apply(alphabets)"
   ]
  },
  {
   "cell_type": "code",
   "execution_count": 53,
   "id": "503d26a8",
   "metadata": {},
   "outputs": [
    {
     "data": {
      "image/png": "[encoded data removed]",
      "text/plain": [
       "<Figure size 432x288 with 1 Axes>"
      ]
     },
     "metadata": {
      "needs_background": "light"
     },
     "output_type": "display_data"
    }
   ],
   "source": [
    "sns.scatterplot(x = cnt_alphabets, y = y_train, hue = y_train)\n",
    "plt.xlabel('no of alphabets')\n",
    "plt.show()"
   ]
  },
  {
   "cell_type": "markdown",
   "id": "4da8be4b",
   "metadata": {},
   "source": [
    "There is quite some overlap. It is difficult to come to a conclusion about this feature."
   ]
  },
  {
   "cell_type": "code",
   "execution_count": 54,
   "id": "642083ce",
   "metadata": {},
   "outputs": [],
   "source": [
    "#count of brackets (), []\n",
    "def brackets(x):\n",
    "    return len(re.findall(\"\\(|\\)|\\[|\\]\", x))\n",
    "\n",
    "cnt_brackets = X_train.apply(brackets)"
   ]
  },
  {
   "cell_type": "code",
   "execution_count": 55,
   "id": "71bdf64b",
   "metadata": {},
   "outputs": [
    {
     "data": {
      "image/png": "[encoded data removed]",
      "text/plain": [
       "<Figure size 432x288 with 1 Axes>"
      ]
     },
     "metadata": {
      "needs_background": "light"
     },
     "output_type": "display_data"
    }
   ],
   "source": [
    "sns.countplot(hue = y_train, x = cnt_brackets)\n",
    "plt.show()"
   ]
  },
  {
   "cell_type": "code",
   "execution_count": 56,
   "id": "b162ec8b",
   "metadata": {},
   "outputs": [
    {
     "data": {
      "image/png": "[encoded data removed]",
      "text/plain": [
       "<Figure size 432x288 with 1 Axes>"
      ]
     },
     "metadata": {
      "needs_background": "light"
     },
     "output_type": "display_data"
    }
   ],
   "source": [
    "sns.scatterplot(x = cnt_brackets, y = y_train, hue = y_train)\n",
    "plt.xlabel('no of brackets')\n",
    "plt.show()"
   ]
  },
  {
   "cell_type": "markdown",
   "id": "e18df914",
   "metadata": {},
   "source": [
    "This feature will be useful in distinguishing queries and should be retained."
   ]
  },
  {
   "cell_type": "code",
   "execution_count": 57,
   "id": "e47897c8",
   "metadata": {},
   "outputs": [],
   "source": [
    "#count of null values in the query\n",
    "def nulls(x):\n",
    "    return len(re.findall(\"null\", x))\n",
    "\n",
    "cnt_nulls = X_train.apply(nulls)"
   ]
  },
  {
   "cell_type": "code",
   "execution_count": 58,
   "id": "781f38a0",
   "metadata": {},
   "outputs": [
    {
     "data": {
      "image/png": "[encoded data removed]",
      "text/plain": [
       "<Figure size 432x288 with 1 Axes>"
      ]
     },
     "metadata": {
      "needs_background": "light"
     },
     "output_type": "display_data"
    }
   ],
   "source": [
    "sns.countplot(hue = y_train, x = cnt_nulls)\n",
    "plt.show()"
   ]
  },
  {
   "cell_type": "markdown",
   "id": "e17e709f",
   "metadata": {},
   "source": [
    "If there are 2 or more null values in the query then it is an injection query. Feature will come handy."
   ]
  },
  {
   "cell_type": "code",
   "execution_count": 59,
   "id": "28cf4650",
   "metadata": {},
   "outputs": [],
   "source": [
    "#count of hexadecimal values\n",
    "#reference: https://stackoverflow.com/questions/9221362/regular-expression-for-a-hexadecimal-number\n",
    "def hexadecimal(x):\n",
    "    return len(re.findall(\"0[xX][0-9a-f]+\", x))\n",
    "\n",
    "cnt_hexadecimal = X_train.apply(hexadecimal)"
   ]
  },
  {
   "cell_type": "code",
   "execution_count": 60,
   "id": "493342e4",
   "metadata": {},
   "outputs": [
    {
     "data": {
      "image/png": "[encoded data removed]",
      "text/plain": [
       "<Figure size 432x288 with 1 Axes>"
      ]
     },
     "metadata": {
      "needs_background": "light"
     },
     "output_type": "display_data"
    }
   ],
   "source": [
    "sns.countplot(hue = y_train, x = cnt_hexadecimal)\n",
    "plt.show()"
   ]
  },
  {
   "cell_type": "markdown",
   "id": "34a47d2a",
   "metadata": {},
   "source": [
    "Presence of hexadecimal values denotes that the query is an injection query. This feature should be used while modelling."
   ]
  },
  {
   "cell_type": "code",
   "execution_count": 61,
   "id": "279624cc",
   "metadata": {},
   "outputs": [],
   "source": [
    "#count of commas\n",
    "def commas(x):\n",
    "    return len(re.findall(\",\", x))\n",
    "\n",
    "cnt_commas = X_train.apply(commas)"
   ]
  },
  {
   "cell_type": "code",
   "execution_count": 62,
   "id": "385be7e2",
   "metadata": {},
   "outputs": [
    {
     "data": {
      "image/png": "[encoded data removed]",
      "text/plain": [
       "<Figure size 432x288 with 1 Axes>"
      ]
     },
     "metadata": {
      "needs_background": "light"
     },
     "output_type": "display_data"
    }
   ],
   "source": [
    "sns.countplot(hue = y_train, x = cnt_commas)\n",
    "plt.show()"
   ]
  },
  {
   "cell_type": "markdown",
   "id": "24a5841e",
   "metadata": {},
   "source": [
    "There is some overlap but still the feature can be used for modelling. More the no of commas higher the chance that it is an inejction query."
   ]
  },
  {
   "cell_type": "code",
   "execution_count": 63,
   "id": "056b10b1",
   "metadata": {},
   "outputs": [],
   "source": [
    "#count of single quotes\n",
    "def single_quotes(x):\n",
    "    return len(re.findall(\"\\'\\'\", x))\n",
    "\n",
    "cnt_single_quotes = X_train.apply(single_quotes)"
   ]
  },
  {
   "cell_type": "code",
   "execution_count": 64,
   "id": "91eb052a",
   "metadata": {},
   "outputs": [
    {
     "data": {
      "image/png": "[encoded data removed]",
      "text/plain": [
       "<Figure size 432x288 with 1 Axes>"
      ]
     },
     "metadata": {
      "needs_background": "light"
     },
     "output_type": "display_data"
    }
   ],
   "source": [
    "sns.countplot(hue = y_train, x = cnt_single_quotes)\n",
    "plt.show()"
   ]
  },
  {
   "cell_type": "markdown",
   "id": "03c0a332",
   "metadata": {},
   "source": [
    "Feature can be discarded."
   ]
  },
  {
   "cell_type": "code",
   "execution_count": 65,
   "id": "215710a7",
   "metadata": {},
   "outputs": [],
   "source": [
    "#count of single quotes\n",
    "def single_quotes_with_gaps(x):\n",
    "    return len(re.findall(\"\\'\", x))\n",
    "\n",
    "cnt_single_quotes_with_gaps = X_train.apply(single_quotes_with_gaps)"
   ]
  },
  {
   "cell_type": "code",
   "execution_count": 66,
   "id": "d397ed17",
   "metadata": {},
   "outputs": [
    {
     "data": {
      "image/png": "[encoded data removed]",
      "text/plain": [
       "<Figure size 432x288 with 1 Axes>"
      ]
     },
     "metadata": {
      "needs_background": "light"
     },
     "output_type": "display_data"
    }
   ],
   "source": [
    "sns.countplot(hue = y_train, x = cnt_single_quotes_with_gaps)\n",
    "plt.show()"
   ]
  },
  {
   "cell_type": "markdown",
   "id": "dd6d8285",
   "metadata": {},
   "source": [
    "There is some overlap but can be retained for modelling."
   ]
  },
  {
   "cell_type": "code",
   "execution_count": 67,
   "id": "25deb0be",
   "metadata": {},
   "outputs": [],
   "source": [
    "#count of double quotes\n",
    "def double_quotes(x):\n",
    "    return len(re.findall('\\\"\\\"', x))\n",
    "\n",
    "cnt_double_quotes = X_train.apply(double_quotes)"
   ]
  },
  {
   "cell_type": "code",
   "execution_count": 68,
   "id": "3be92499",
   "metadata": {},
   "outputs": [
    {
     "data": {
      "image/png": "[encoded data removed]",
      "text/plain": [
       "<Figure size 432x288 with 1 Axes>"
      ]
     },
     "metadata": {
      "needs_background": "light"
     },
     "output_type": "display_data"
    }
   ],
   "source": [
    "sns.countplot(hue = y_train, x = cnt_double_quotes)\n",
    "plt.show()"
   ]
  },
  {
   "cell_type": "markdown",
   "id": "f565ebe9",
   "metadata": {},
   "source": [
    "This feature can be discarded."
   ]
  },
  {
   "cell_type": "code",
   "execution_count": 69,
   "id": "ee85c2be",
   "metadata": {},
   "outputs": [],
   "source": [
    "def double_quotes_with_gaps(x):\n",
    "    return len(re.findall('\\\"', x))\n",
    "\n",
    "cnt_double_quotes_with_gaps = X_train.apply(double_quotes_with_gaps)"
   ]
  },
  {
   "cell_type": "code",
   "execution_count": 70,
   "id": "77732307",
   "metadata": {},
   "outputs": [
    {
     "data": {
      "image/png": "[encoded data removed]",
      "text/plain": [
       "<Figure size 432x288 with 1 Axes>"
      ]
     },
     "metadata": {
      "needs_background": "light"
     },
     "output_type": "display_data"
    }
   ],
   "source": [
    "sns.countplot(hue = y_train, x = cnt_double_quotes_with_gaps)\n",
    "plt.show()"
   ]
  },
  {
   "cell_type": "markdown",
   "id": "1e10dd7a",
   "metadata": {},
   "source": [
    "This feature is useful in distinguishing queries. It's presence increases the chance of teh query being an injection query."
   ]
  },
  {
   "cell_type": "markdown",
   "id": "6c324466",
   "metadata": {},
   "source": [
    "Conclusion:-\n",
    "    \n",
    "    1. All the features that helped in segregating queries to even some extent have been retained/ extracted.\n",
    "    \n",
    "    2. We will perform BoW, Tfidf on the queries to after tokenizing them. The reference papers have used BoW, but we will try Tfidf as well to see which one gives better results.\n",
    "    \n",
    "    3. All special characters will be lost when we perform any of the above two. Hence, to take them into consideration we have extfracted them before hand here as they are significant to our analysis."
   ]
  },
  {
   "cell_type": "markdown",
   "id": "c44aa1fd",
   "metadata": {},
   "source": [
    "### We will now proceed with preprocessing the data. To create train.csv and test.csv, such both the datasets have all the features extracted above that we plan to retain.\n"
   ]
  },
  {
   "cell_type": "code",
   "execution_count": 83,
   "id": "3f2e6239",
   "metadata": {},
   "outputs": [],
   "source": [
    "def preprocess_data(x):\n",
    "    features = {}\n",
    "    features['single_comments'] = single_comments(x)\n",
    "    features['logical_operators'] = logical_operators(x)\n",
    "    features['arithmetic_operators'] = arithmetic_operators(x)\n",
    "    features['drop'] = find_drop(x)\n",
    "    features['union'] = find_union(x)\n",
    "    features['special_chars']  = special_chars(x)\n",
    "    features['equal']  = equal(x)\n",
    "    features['delimiter'] = delimiter(x)\n",
    "    features['dot'] = dot(x)\n",
    "    features['whitespaces'] = whitespaces(x)\n",
    "    features['digits'] = digits(x)\n",
    "    features['alphabets'] = alphabets(x)\n",
    "    features['brackets'] = brackets(x)\n",
    "    features['nulls'] = nulls(x)\n",
    "    features['hexadecimal'] = hexadecimal(x)\n",
    "    features['commas'] = commas(x)\n",
    "    features['single_quotes'] = single_quotes_with_gaps(x)\n",
    "    features['double_quotes'] = double_quotes_with_gaps(x)\n",
    "    \n",
    "    return features"
   ]
  },
  {
   "cell_type": "code",
   "execution_count": 88,
   "id": "576be441",
   "metadata": {},
   "outputs": [],
   "source": [
    "train_data = pd.concat([X_train,X_train.apply(preprocess_data).apply(pd.Series)], axis = 1)"
   ]
  },
  {
   "cell_type": "code",
   "execution_count": 93,
   "id": "2d7817a1",
   "metadata": {},
   "outputs": [],
   "source": [
    "preprocessed_train = pd.concat([train_data, y_train], axis = 1)"
   ]
  },
  {
   "cell_type": "code",
   "execution_count": 91,
   "id": "8ae8687e",
   "metadata": {},
   "outputs": [
    {
     "data": {
      "text/plain": [
       "(23171,)"
      ]
     },
     "execution_count": 91,
     "metadata": {},
     "output_type": "execute_result"
    }
   ],
   "source": [
    "X_train.shape"
   ]
  },
  {
   "cell_type": "code",
   "execution_count": 94,
   "id": "8cc85dfd",
   "metadata": {},
   "outputs": [
    {
     "data": {
      "text/plain": [
       "(23171, 20)"
      ]
     },
     "execution_count": 94,
     "metadata": {},
     "output_type": "execute_result"
    }
   ],
   "source": [
    "preprocessed_train.shape"
   ]
  },
  {
   "cell_type": "code",
   "execution_count": 95,
   "id": "a28b227d",
   "metadata": {},
   "outputs": [
    {
     "data": {
      "text/html": [
       "<div>\n",
       "<style scoped>\n",
       "    .dataframe tbody tr th:only-of-type {\n",
       "        vertical-align: middle;\n",
       "    }\n",
       "\n",
       "    .dataframe tbody tr th {\n",
       "        vertical-align: top;\n",
       "    }\n",
       "\n",
       "    .dataframe thead th {\n",
       "        text-align: right;\n",
       "    }\n",
       "</style>\n",
       "<table border=\"1\" class=\"dataframe\">\n",
       "  <thead>\n",
       "    <tr style=\"text-align: right;\">\n",
       "      <th></th>\n",
       "      <th>Query</th>\n",
       "      <th>single_comments</th>\n",
       "      <th>logical_operators</th>\n",
       "      <th>arithmetic_operators</th>\n",
       "      <th>drop</th>\n",
       "      <th>union</th>\n",
       "      <th>special_chars</th>\n",
       "      <th>equal</th>\n",
       "      <th>delimiter</th>\n",
       "      <th>dot</th>\n",
       "      <th>whitespaces</th>\n",
       "      <th>digits</th>\n",
       "      <th>alphabets</th>\n",
       "      <th>brackets</th>\n",
       "      <th>nulls</th>\n",
       "      <th>hexadecimal</th>\n",
       "      <th>commas</th>\n",
       "      <th>single_quotes</th>\n",
       "      <th>double_quotes</th>\n",
       "      <th>Label</th>\n",
       "    </tr>\n",
       "  </thead>\n",
       "  <tbody>\n",
       "    <tr>\n",
       "      <th>7768</th>\n",
       "      <td>1%' and 6055  =  ctxsys.drithsx.sn  (  6055,  ...</td>\n",
       "      <td>0</td>\n",
       "      <td>12</td>\n",
       "      <td>0</td>\n",
       "      <td>0</td>\n",
       "      <td>0</td>\n",
       "      <td>2</td>\n",
       "      <td>3</td>\n",
       "      <td>0</td>\n",
       "      <td>343</td>\n",
       "      <td>148</td>\n",
       "      <td>49</td>\n",
       "      <td>84</td>\n",
       "      <td>30</td>\n",
       "      <td>0</td>\n",
       "      <td>0</td>\n",
       "      <td>1</td>\n",
       "      <td>4</td>\n",
       "      <td>0</td>\n",
       "      <td>1</td>\n",
       "    </tr>\n",
       "    <tr>\n",
       "      <th>14655</th>\n",
       "      <td>piedramillera</td>\n",
       "      <td>0</td>\n",
       "      <td>0</td>\n",
       "      <td>0</td>\n",
       "      <td>0</td>\n",
       "      <td>0</td>\n",
       "      <td>0</td>\n",
       "      <td>0</td>\n",
       "      <td>0</td>\n",
       "      <td>13</td>\n",
       "      <td>0</td>\n",
       "      <td>0</td>\n",
       "      <td>13</td>\n",
       "      <td>0</td>\n",
       "      <td>0</td>\n",
       "      <td>0</td>\n",
       "      <td>0</td>\n",
       "      <td>0</td>\n",
       "      <td>0</td>\n",
       "      <td>0</td>\n",
       "    </tr>\n",
       "    <tr>\n",
       "      <th>19535</th>\n",
       "      <td>select wp_posts.* from wp_posts where id in  (...</td>\n",
       "      <td>0</td>\n",
       "      <td>0</td>\n",
       "      <td>0</td>\n",
       "      <td>0</td>\n",
       "      <td>0</td>\n",
       "      <td>0</td>\n",
       "      <td>0</td>\n",
       "      <td>0</td>\n",
       "      <td>56</td>\n",
       "      <td>11</td>\n",
       "      <td>6</td>\n",
       "      <td>33</td>\n",
       "      <td>2</td>\n",
       "      <td>0</td>\n",
       "      <td>0</td>\n",
       "      <td>0</td>\n",
       "      <td>0</td>\n",
       "      <td>0</td>\n",
       "      <td>0</td>\n",
       "    </tr>\n",
       "    <tr>\n",
       "      <th>2239</th>\n",
       "      <td>select count  (  *  )   from domain.domains as...</td>\n",
       "      <td>0</td>\n",
       "      <td>1</td>\n",
       "      <td>0</td>\n",
       "      <td>0</td>\n",
       "      <td>0</td>\n",
       "      <td>0</td>\n",
       "      <td>0</td>\n",
       "      <td>0</td>\n",
       "      <td>117</td>\n",
       "      <td>25</td>\n",
       "      <td>3</td>\n",
       "      <td>77</td>\n",
       "      <td>3</td>\n",
       "      <td>0</td>\n",
       "      <td>0</td>\n",
       "      <td>2</td>\n",
       "      <td>0</td>\n",
       "      <td>3</td>\n",
       "      <td>1</td>\n",
       "    </tr>\n",
       "    <tr>\n",
       "      <th>10007</th>\n",
       "      <td>call regexp_substring  (  repeat  (  left  (  ...</td>\n",
       "      <td>0</td>\n",
       "      <td>3</td>\n",
       "      <td>0</td>\n",
       "      <td>0</td>\n",
       "      <td>0</td>\n",
       "      <td>0</td>\n",
       "      <td>1</td>\n",
       "      <td>0</td>\n",
       "      <td>175</td>\n",
       "      <td>63</td>\n",
       "      <td>16</td>\n",
       "      <td>68</td>\n",
       "      <td>14</td>\n",
       "      <td>2</td>\n",
       "      <td>0</td>\n",
       "      <td>4</td>\n",
       "      <td>3</td>\n",
       "      <td>0</td>\n",
       "      <td>1</td>\n",
       "    </tr>\n",
       "  </tbody>\n",
       "</table>\n",
       "</div>"
      ],
      "text/plain": [
       "                                                   Query  single_comments  \\\n",
       "7768   1%' and 6055  =  ctxsys.drithsx.sn  (  6055,  ...                0   \n",
       "14655                                      piedramillera                0   \n",
       "19535  select wp_posts.* from wp_posts where id in  (...                0   \n",
       "2239   select count  (  *  )   from domain.domains as...                0   \n",
       "10007  call regexp_substring  (  repeat  (  left  (  ...                0   \n",
       "\n",
       "       logical_operators  arithmetic_operators  drop  union  special_chars  \\\n",
       "7768                  12                     0     0      0              2   \n",
       "14655                  0                     0     0      0              0   \n",
       "19535                  0                     0     0      0              0   \n",
       "2239                   1                     0     0      0              0   \n",
       "10007                  3                     0     0      0              0   \n",
       "\n",
       "       equal  delimiter  dot  whitespaces  digits  alphabets  brackets  nulls  \\\n",
       "7768       3          0  343          148      49         84        30      0   \n",
       "14655      0          0   13            0       0         13         0      0   \n",
       "19535      0          0   56           11       6         33         2      0   \n",
       "2239       0          0  117           25       3         77         3      0   \n",
       "10007      1          0  175           63      16         68        14      2   \n",
       "\n",
       "       hexadecimal  commas  single_quotes  double_quotes  Label  \n",
       "7768             0       1              4              0      1  \n",
       "14655            0       0              0              0      0  \n",
       "19535            0       0              0              0      0  \n",
       "2239             0       2              0              3      1  \n",
       "10007            0       4              3              0      1  "
      ]
     },
     "execution_count": 95,
     "metadata": {},
     "output_type": "execute_result"
    }
   ],
   "source": [
    "preprocessed_train.head()"
   ]
  },
  {
   "cell_type": "code",
   "execution_count": 96,
   "id": "1696c209",
   "metadata": {},
   "outputs": [],
   "source": [
    "test_data = pd.concat([X_test,X_test.apply(preprocess_data).apply(pd.Series)], axis = 1)"
   ]
  },
  {
   "cell_type": "code",
   "execution_count": 97,
   "id": "a1f88796",
   "metadata": {},
   "outputs": [],
   "source": [
    "preprocessed_test = pd.concat([test_data, y_test], axis = 1)"
   ]
  },
  {
   "cell_type": "code",
   "execution_count": 98,
   "id": "8ea84fad",
   "metadata": {},
   "outputs": [
    {
     "data": {
      "text/plain": [
       "(7730, 19)"
      ]
     },
     "execution_count": 98,
     "metadata": {},
     "output_type": "execute_result"
    }
   ],
   "source": [
    "test_data.shape"
   ]
  },
  {
   "cell_type": "code",
   "execution_count": 99,
   "id": "b138eba6",
   "metadata": {},
   "outputs": [
    {
     "data": {
      "text/plain": [
       "(7730,)"
      ]
     },
     "execution_count": 99,
     "metadata": {},
     "output_type": "execute_result"
    }
   ],
   "source": [
    "X_test.shape"
   ]
  },
  {
   "cell_type": "code",
   "execution_count": 100,
   "id": "1b5a9157",
   "metadata": {},
   "outputs": [
    {
     "data": {
      "text/plain": [
       "(7730, 20)"
      ]
     },
     "execution_count": 100,
     "metadata": {},
     "output_type": "execute_result"
    }
   ],
   "source": [
    "preprocessed_test.shape"
   ]
  },
  {
   "cell_type": "code",
   "execution_count": 101,
   "id": "1cf31bf5",
   "metadata": {},
   "outputs": [],
   "source": [
    "preprocessed_train.to_csv('preprocessed_train.csv',index = False)\n",
    "preprocessed_test.to_csv('preprocessed_test.csv',index = False)"
   ]
  },
  {
   "cell_type": "code",
   "execution_count": null,
   "id": "1aa752ef",
   "metadata": {},
   "outputs": [],
   "source": []
  }
 ],
 "metadata": {
  "kernelspec": {
   "display_name": "Python 3 (ipykernel)",
   "language": "python",
   "name": "python3"
  },
  "language_info": {
   "codemirror_mode": {
    "name": "ipython",
    "version": 3
   },
   "file_extension": ".py",
   "mimetype": "text/x-python",
   "name": "python",
   "nbconvert_exporter": "python",
   "pygments_lexer": "ipython3",
   "version": "3.9.12"
  }
 },
 "nbformat": 4,
 "nbformat_minor": 5
}
